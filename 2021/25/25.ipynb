{
 "cells": [
  {
   "cell_type": "code",
   "execution_count": 2,
   "metadata": {},
   "outputs": [
    {
     "name": "stdout",
     "output_type": "stream",
     "text": [
      "453\n"
     ]
    }
   ],
   "source": [
    "import itertools\n",
    "\n",
    "with open('input.txt', 'r') as f:\n",
    "    grid = [line.strip() for line in f]\n",
    "\n",
    "h, w = len(grid), len(grid[0])\n",
    "d = {(i, j): c for i, row in enumerate(grid) for j, c in enumerate(row) if c != '.'}\n",
    "\n",
    "for t in itertools.count(1):\n",
    "    d1 = {p if c == '>' and (p := (i, (j + 1) % w)) not in d else (i, j) : c for (i, j), c in d.items()}\n",
    "    d1 = {p if c == 'v' and (p := ((i + 1) % h, j)) not in d1 else (i, j) : c for (i, j), c in d1.items()}\n",
    "    if d1 == d:\n",
    "        print(t)\n",
    "        break\n",
    "    d = d1"
   ]
  }
 ],
 "metadata": {
  "interpreter": {
   "hash": "b3ba2566441a7c06988d0923437866b63cedc61552a5af99d1f4fb67d367b25f"
  },
  "kernelspec": {
   "display_name": "Python 3.8.5 64-bit ('base': conda)",
   "language": "python",
   "name": "python3"
  },
  "language_info": {
   "codemirror_mode": {
    "name": "ipython",
    "version": 3
   },
   "file_extension": ".py",
   "mimetype": "text/x-python",
   "name": "python",
   "nbconvert_exporter": "python",
   "pygments_lexer": "ipython3",
   "version": "3.8.5"
  },
  "orig_nbformat": 4
 },
 "nbformat": 4,
 "nbformat_minor": 2
}
