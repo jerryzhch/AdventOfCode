{
 "cells": [
  {
   "cell_type": "code",
   "execution_count": 1,
   "metadata": {},
   "outputs": [
    {
     "name": "stdout",
     "output_type": "stream",
     "text": [
      "11175\n",
      "3540\n"
     ]
    }
   ],
   "source": [
    "import re\n",
    "\n",
    "with open(\"input.txt\") as f:\n",
    "    xmin, xmax, ymin, ymax = map(int, re.findall(r\"[-\\d]+\", f.read()))\n",
    "\n",
    "print(abs(ymin) * abs(ymin + 1) // 2)\n",
    "\n",
    "velocities = 0\n",
    "for dx_init in range(min(0, xmin - 1), max(0, xmax + 1)):\n",
    "    for dy_init in range(ymin, abs(ymin)):\n",
    "        solved = False\n",
    "        dx = dx_init\n",
    "        dy = dy_init\n",
    "        x = 0\n",
    "        y = 0\n",
    "        while y > ymin:\n",
    "            x += dx\n",
    "            y += dy\n",
    "            if dx < 0:\n",
    "                dx += 1\n",
    "            if dx > 0:\n",
    "                dx -= 1\n",
    "            dy -= 1\n",
    "            if xmin <= x <= xmax and ymin <= y <= ymax:\n",
    "                velocities += 1\n",
    "                break\n",
    "\n",
    "print(velocities)"
   ]
  }
 ],
 "metadata": {
  "interpreter": {
   "hash": "b3ba2566441a7c06988d0923437866b63cedc61552a5af99d1f4fb67d367b25f"
  },
  "kernelspec": {
   "display_name": "Python 3.8.5 64-bit ('base': conda)",
   "language": "python",
   "name": "python3"
  },
  "language_info": {
   "codemirror_mode": {
    "name": "ipython",
    "version": 3
   },
   "file_extension": ".py",
   "mimetype": "text/x-python",
   "name": "python",
   "nbconvert_exporter": "python",
   "pygments_lexer": "ipython3",
   "version": "3.8.5"
  },
  "orig_nbformat": 4
 },
 "nbformat": 4,
 "nbformat_minor": 2
}
